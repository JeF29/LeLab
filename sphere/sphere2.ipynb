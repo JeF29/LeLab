import numpy as np
import matplotlib.pyplot as plt
#plt.figure(figsize=(9, 9))
ax = plt.axes(projection='3d')
u, v = np.mgrid[:np.pi:10j,:2*np.pi:20j]
#u = np.linspace(0, np.pi, 10).reshape(-1, 1)
#v = np.linspace(0, 2*np.pi, 20)
x = np.sin(u) * np.sin(v)
y = np.sin(u) * np.cos(v)
z = np.cos(u)
ax.plot_surface(x, y, z, edgecolor='g', alpha=0.2);
